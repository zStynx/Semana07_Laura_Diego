{
 "cells": [
  {
   "cell_type": "code",
   "execution_count": 8,
   "id": "e449c683",
   "metadata": {},
   "outputs": [
    {
     "name": "stdout",
     "output_type": "stream",
     "text": [
      "Hola, soy Diego Laura y tengo 21 años. Mi dni es 7748058 \n"
     ]
    }
   ],
   "source": [
    "#uso del .format()\n",
    "nombre = \"Diego Laura\"\n",
    "edad = 21\n",
    "dni = 7748058\n",
    "\n",
    "print('Hola, soy {} y tengo {} años. Mi dni es {} '.format(nombre, edad, dni))"
   ]
  },
  {
   "cell_type": "code",
   "execution_count": 12,
   "id": "f9326881",
   "metadata": {},
   "outputs": [
    {
     "name": "stdout",
     "output_type": "stream",
     "text": [
      "¿Cual es tu nombre?\n",
      "Diego\n",
      "Hola como estas Diego\n"
     ]
    }
   ],
   "source": [
    "#funcion imput\n",
    "print(\"¿Cual es tu nombre?\")\n",
    "nombre = input()\n",
    "print(\"Hola, como estas \"+nombre)\n"
   ]
  },
  {
   "cell_type": "code",
   "execution_count": 20,
   "id": "a7aadc06",
   "metadata": {},
   "outputs": [
    {
     "name": "stdout",
     "output_type": "stream",
     "text": [
      "numero 1: \n",
      "1\n",
      "numero 2: \n",
      "2\n",
      "La suma de los numeros es numero3=3\n"
     ]
    }
   ],
   "source": [
    "#cuando ingresa un valor por teclado lo hace como cadena\n",
    "print(\"numero 1: \")\n",
    "numero1=input()\n",
    "print(\"numero 2: \")\n",
    "numero2=input()\n",
    "numero3=int(numero1) + int(numero2)\n",
    "print(f'La suma de los numeros es {numero3=}')"
   ]
  },
  {
   "cell_type": "code",
   "execution_count": null,
   "id": "cf9ffe78",
   "metadata": {},
   "outputs": [],
   "source": []
  }
 ],
 "metadata": {
  "kernelspec": {
   "display_name": "Python 3 (ipykernel)",
   "language": "python",
   "name": "python3"
  },
  "language_info": {
   "codemirror_mode": {
    "name": "ipython",
    "version": 3
   },
   "file_extension": ".py",
   "mimetype": "text/x-python",
   "name": "python",
   "nbconvert_exporter": "python",
   "pygments_lexer": "ipython3",
   "version": "3.9.12"
  }
 },
 "nbformat": 4,
 "nbformat_minor": 5
}
