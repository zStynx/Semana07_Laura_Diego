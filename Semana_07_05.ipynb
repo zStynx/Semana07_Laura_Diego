{
 "cells": [
  {
   "cell_type": "code",
   "execution_count": 10,
   "id": "3f466a01",
   "metadata": {},
   "outputs": [
    {
     "name": "stdout",
     "output_type": "stream",
     "text": [
      "Ingrese el primer numero: \n",
      "12\n",
      "Ingrese el segundo numero: \n",
      "3\n",
      "Suma -> 15\n",
      "Resta -> -9\n",
      "Multiplicacion -> 36\n",
      "Division -> 0.25\n",
      "Residuo -> 3\n",
      "Cociente -> 0\n",
      "Potencia -> 1728\n"
     ]
    }
   ],
   "source": [
    "print(\"Ingrese el primer numero: \")\n",
    "n1=input()\n",
    "print(\"Ingrese el segundo numero: \")\n",
    "n2=input()\n",
    "\n",
    "suma=int(n1)+int(n2)\n",
    "\n",
    "if(n1>n2):\n",
    "    resta=int(n1)-int(n2)\n",
    "else: \n",
    "    resta=int(n2)-int(n1)\n",
    "    \n",
    "multiplicacion=int(n1)*int(n2)\n",
    "\n",
    "if(n1>n2):\n",
    "    division=int(n1)/int(n2)\n",
    "else:\n",
    "    division=int(n2)/int(n1)\n",
    "\n",
    "if(n1>n2):\n",
    "    residuo=int(n1)%int(n2)\n",
    "else:\n",
    "    residuo=int(n2)%int(n1)\n",
    "    \n",
    "if(n1>n2):\n",
    "    cociente=int(n1)//int(n2)\n",
    "else:\n",
    "    cociente=int(n2)//int(n1)\n",
    "\n",
    "potencia=int(n1)**int(n2) \n",
    "    \n",
    "print('Suma -> {}'.format(suma))\n",
    "print('Resta -> {}' .format(resta))\n",
    "print('Multiplicacion -> {}'.format(multiplicacion))\n",
    "print('Division -> {}'.format(division))\n",
    "print('Residuo -> {}'.format(residuo))\n",
    "print('Cociente -> {}'.format(cociente))\n",
    "print('Potencia -> {}'.format(potencia))\n"
   ]
  },
  {
   "cell_type": "code",
   "execution_count": null,
   "id": "6e9d2f93",
   "metadata": {},
   "outputs": [],
   "source": []
  }
 ],
 "metadata": {
  "kernelspec": {
   "display_name": "Python 3 (ipykernel)",
   "language": "python",
   "name": "python3"
  },
  "language_info": {
   "codemirror_mode": {
    "name": "ipython",
    "version": 3
   },
   "file_extension": ".py",
   "mimetype": "text/x-python",
   "name": "python",
   "nbconvert_exporter": "python",
   "pygments_lexer": "ipython3",
   "version": "3.9.12"
  }
 },
 "nbformat": 4,
 "nbformat_minor": 5
}
